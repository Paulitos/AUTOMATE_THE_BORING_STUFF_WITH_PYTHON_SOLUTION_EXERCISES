{
  "nbformat": 4,
  "nbformat_minor": 0,
  "metadata": {
    "colab": {
      "provenance": []
    },
    "kernelspec": {
      "name": "python3",
      "display_name": "Python 3"
    },
    "language_info": {
      "name": "python"
    }
  },
  "cells": [
    {
      "cell_type": "markdown",
      "source": [
        "⚠️DISCLAIMER⚠️  \n",
        "This solution sheet is not certified by the author or industry professionals. This document is not responsible for any errors in claiming to be a solution to an exercise. Corrections are welcome, you may make pull request if desired.\n",
        "<br><br>\n",
        "Page 19  \n",
        "**1. Which of the following are operators, and which are values?**  \n",
        "\\*&nbsp;&nbsp; <- operator  \n",
        "'hello'&nbsp;&nbsp; <- value  \n",
        "-88.8&nbsp;&nbsp; <- value  \n",
        "-&nbsp;&nbsp; <- operator  \n",
        "/&nbsp;&nbsp; <- operator  \n",
        "+&nbsp;&nbsp; <- operator  \n",
        "5&nbsp;&nbsp; <- value  \n",
        "**2. Which of the following is a variable, and which is a string?**  \n",
        "spam&nbsp;&nbsp; <- variable  \n",
        "'spam'&nbsp;&nbsp; <- string  \n",
        "**3. Name three data types.**  \n",
        "Integer, floating-point and string.  \n",
        "**4. What is an expression made up of? What do all expressions do?**  \n",
        "Expressions are made up of values combined with operators. They all evaluate down to a single value.  \n",
        "**5. This chapter introduced assignment statements, like spam = 10. What is the difference between an expression and a statement?**  \n",
        "In summary, expressions produce values, while statements perform actions or control the program's flow.  \n"
      ],
      "metadata": {
        "id": "grV2ovCeQIkE"
      }
    }
  ]
}